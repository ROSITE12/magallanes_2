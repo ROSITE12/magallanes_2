{
  "nbformat": 4,
  "nbformat_minor": 0,
  "metadata": {
    "colab": {
      "provenance": [],
      "authorship_tag": "ABX9TyM+Fyyte81iOuNYnYGuejCn",
      "include_colab_link": true
    },
    "kernelspec": {
      "name": "python3",
      "display_name": "Python 3"
    },
    "language_info": {
      "name": "python"
    }
  },
  "cells": [
    {
      "cell_type": "markdown",
      "metadata": {
        "id": "view-in-github",
        "colab_type": "text"
      },
      "source": [
        "<a href=\"https://colab.research.google.com/github/ROSITE12/magallanes_2/blob/main/semana2/S2_Organizaci%C3%B3n_de_Datos_Tabulares.ipynb\" target=\"_parent\"><img src=\"https://colab.research.google.com/assets/colab-badge.svg\" alt=\"Open In Colab\"/></a>"
      ]
    },
    {
      "cell_type": "code",
      "execution_count": 1,
      "metadata": {
        "colab": {
          "base_uri": "https://localhost:8080/"
        },
        "id": "Xkx1XVAp23Dc",
        "outputId": "452d4316-b89a-4599-8376-2341aa5704fc"
      },
      "outputs": [
        {
          "output_type": "stream",
          "name": "stdout",
          "text": [
            "<class 'pandas.core.frame.DataFrame'>\n",
            "RangeIndex: 501236 entries, 0 to 501235\n",
            "Data columns (total 9 columns):\n",
            " #   Column        Non-Null Count   Dtype   \n",
            "---  ------        --------------   -----   \n",
            " 0   departamento  501236 non-null  object  \n",
            " 1   provincia     501236 non-null  object  \n",
            " 2   distrito      501236 non-null  object  \n",
            " 3   ano           501236 non-null  int64   \n",
            " 4   semana        501236 non-null  int64   \n",
            " 5   sexo          501236 non-null  object  \n",
            " 6   edad          501236 non-null  int64   \n",
            " 7   enfermedad    501236 non-null  category\n",
            " 8   case          501236 non-null  int64   \n",
            "dtypes: category(1), int64(4), object(4)\n",
            "memory usage: 31.1+ MB\n"
          ]
        }
      ],
      "source": [
        "import pandas as pd\n",
        "linkData=\"https://github.com/SocialAnalytics-StrategicIntelligence/TableOperations/raw/main/dengue_ok.pkl\"\n",
        "\n",
        "dengue = pd.read_pickle(linkData)\n",
        "\n",
        "# checking format\n",
        "dengue.info()"
      ]
    }
  ]
}